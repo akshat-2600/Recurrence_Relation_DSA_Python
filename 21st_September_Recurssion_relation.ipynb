{
  "nbformat": 4,
  "nbformat_minor": 0,
  "metadata": {
    "colab": {
      "provenance": []
    },
    "kernelspec": {
      "name": "python3",
      "display_name": "Python 3"
    },
    "language_info": {
      "name": "python"
    }
  },
  "cells": [
    {
      "cell_type": "markdown",
      "source": [
        "**1. Find the value of T(2) for the recurrence relation T(n) = 3T(n-1) + 12n, given that T(0)=5.**"
      ],
      "metadata": {
        "id": "m-NvuMzfuWVE"
      }
    },
    {
      "cell_type": "code",
      "source": [
        "## T(n) = 3T(n-1) + 12n ---- eq 1\n",
        "## T(0) = 5\n",
        "## T(2) = ?\n",
        "\n",
        "## Putting n=1 in eq 1\n",
        "## T(1) = 3T(1-1) + 12*1\n",
        "## T(1) = 3T(0) + 12\n",
        "## T(1) = 3*5 + 12\n",
        "## T(1) = 15 + 12\n",
        "## T(1) = 27\n",
        "\n",
        "## Putting n=2 in eq 1\n",
        "\n",
        "## T(2) = 3T(2-1) + 12*2\n",
        "## T(2) = 3T(1) + 24\n",
        "## T(2) = 3*27 + 24\n",
        "## T(2) = 81 + 24\n",
        "## T(2) = 105\n",
        "\n",
        "## Therefore T(2) = 105"
      ],
      "metadata": {
        "id": "5BhvTuXxy8hJ"
      },
      "execution_count": 2,
      "outputs": []
    },
    {
      "cell_type": "markdown",
      "source": [
        "**2. Given a recurrence relation, solve it using the substitution method:\n",
        "a. T(n) = T(n-1) + c\n",
        "b. T(n) = 2T(n/2) + n\n",
        "c. T(n) = 2T(n/2) + c\n",
        "d. T(n) = T(n/2) + c**"
      ],
      "metadata": {
        "id": "gwo5ev8z01Dj"
      }
    },
    {
      "cell_type": "markdown",
      "source": [
        "**a. T(n) = T(n-1) + c**"
      ],
      "metadata": {
        "id": "BfP9gdBY1JV5"
      }
    },
    {
      "cell_type": "code",
      "source": [
        "## T(n) = T(n-1) + c ---- eq 1\n",
        "## Putting n = n-1 in eq 1\n",
        "## T(n-1) = T(n-2) + c\n",
        "## Putting value of T(n-1) in eq 1\n",
        "## T(n) = T(n-2) + 2c ---- eq 2\n",
        "\n",
        "## Putting n = n-2 in eq 1\n",
        "## T(n-2) = T(n-3) + c\n",
        "## Putting value of T(n-2) in  eq 1\n",
        "## T(n) = T(n-3) + 3c ----- eq 3\n",
        "\n",
        "## By observation when it will run k times :\n",
        "## T(n) = T(n-k) + kc ---- eq 4\n",
        "\n",
        "## To stop at T(0) , set k=n in eq 4\n",
        "## T(n) = T(0) + nc\n",
        "## Assuming T(0) is a constant C\n",
        "## T(n) = C + nc\n",
        "\n",
        "## Therefore T(n) = nc is the general solution of given recurrence relation\n",
        "## Time Complexity = O(n)"
      ],
      "metadata": {
        "id": "6YyVC7EIzw1z"
      },
      "execution_count": 4,
      "outputs": []
    },
    {
      "cell_type": "markdown",
      "source": [
        "**b. T(n) = 2T(n/2) + n**"
      ],
      "metadata": {
        "id": "pg4vVtO45NZa"
      }
    },
    {
      "cell_type": "code",
      "source": [
        "## T(n) = 2T(n/2) + n ---- eq 1\n",
        "\n",
        "## Putting n = n/2 in eq 1\n",
        "## T(n/2) = 2T(n/4) + n/2\n",
        "## Putting value of T(n/2) in eq 1\n",
        "## T(n) = 4T(n/4) + 2n ---- eq 2\n",
        "\n",
        "## Putting n = n/4 in eq 1\n",
        "## T(n/4) = 2T(n/8) + n/4\n",
        "## Putting value of T(n/4) in eq 2\n",
        "## T(n) = 8T(n/8) + 3n ----- eq 3\n",
        "\n",
        "## By observation when it will run k times\n",
        "## T(n) = 2**kT(n/2**k) + kn ----- eq 4\n",
        "\n",
        "## When n/2**k = 1\n",
        "## n = 2**k\n",
        "## Taking log with base 2 both sides we get\n",
        "## log n = k (log is of base 2)\n",
        "\n",
        "## T(n) = nT(1) + nlogn (log is of base 2)\n",
        "## Assuming T(1) is constant C\n",
        "## T(n) = nC + nlogn (log is of base 2)\n",
        "\n",
        "## Therefore T(n) = nC + nlogn (log is of base 2) is the general solution of given recurrence relation\n",
        "## Time Complexity = O(nlogn)  (log is of base 2)\n"
      ],
      "metadata": {
        "id": "ultFxPWx457u"
      },
      "execution_count": 5,
      "outputs": []
    },
    {
      "cell_type": "markdown",
      "source": [
        "**c. T(n) = 2T(n/2) + c**"
      ],
      "metadata": {
        "id": "L-1Ab5td9nWh"
      }
    },
    {
      "cell_type": "code",
      "source": [
        "## T(n) = 2T(n/2) + c ---- eq 1\n",
        "\n",
        "## Putting n = n/2 in eq 1\n",
        "## T(n/2) = 2T(n/4) + c\n",
        "## Putting value of T(n/2) in eq 1\n",
        "## T(n) = 4T(n/4) + 3c ---- eq 2\n",
        "\n",
        "## Putting n = n/4 in eq 1\n",
        "## T(n/4) = 2T(n/8) + c\n",
        "## Putting value of T(n/4) in eq 2\n",
        "## T(n) = 8T(n/8) + 7c ----- eq 3\n",
        "\n",
        "## By observation when it will run k times\n",
        "## T(n) = 2**kT(n/2**k) + (2**k - 1)c ----- eq 4\n",
        "\n",
        "## When n/2**k = 1\n",
        "## n = 2**k\n",
        "## Taking log with base 2 both sides we get\n",
        "## log n = k (log is of base 2)\n",
        "\n",
        "## T(n) = nT(1) + (n-1)c\n",
        "## Assuming T(1) is constant C\n",
        "## T(n) = nC + (n-1)c\n",
        "\n",
        "## Therefore T(n) = nC + (n-1)c is the general solution of given recurrence relation\n",
        "## Time Complexity = O(n)"
      ],
      "metadata": {
        "id": "MoA9eByg9iGR"
      },
      "execution_count": 6,
      "outputs": []
    },
    {
      "cell_type": "markdown",
      "source": [
        "**d. T(n) = T(n/2) + c**"
      ],
      "metadata": {
        "id": "p7jmUexgBNwD"
      }
    },
    {
      "cell_type": "code",
      "source": [
        "## T(n) = T(n/2) + c ---- eq 1\n",
        "\n",
        "## Putting n = n/2 in eq 1\n",
        "## T(n/2) = T(n/4) + c\n",
        "## Putting value of T(n/2) in eq 1\n",
        "## T(n) = T(n/4) + 2c ---- eq 2\n",
        "\n",
        "## Putting n = n/4 in eq 1\n",
        "## T(n/4) = T(n/8) + c\n",
        "## Putting value of T(n/4) in eq 2\n",
        "## T(n) = T(n/8) + 3c ----- eq 3\n",
        "\n",
        "## By observation when it will run k times\n",
        "## T(n) = T(n/2**k) + kc ----- eq 4\n",
        "\n",
        "## When n/2**k = 1\n",
        "## n = 2**k\n",
        "## Taking log with base 2 both sides we get\n",
        "## log n = k (log is of base 2)\n",
        "\n",
        "## T(n) = T(1) + clogn (log with base 2)\n",
        "## Assuming T(1) is constant C\n",
        "## T(n) = C + clogn\n",
        "\n",
        "## Therefore T(n) = C + clogn (log with base 2) is the general solution of given recurrence relation\n",
        "## Time Complexity = O(logn) (log with base 2)"
      ],
      "metadata": {
        "id": "K-gmO0HnBK3i"
      },
      "execution_count": 8,
      "outputs": []
    },
    {
      "cell_type": "markdown",
      "source": [
        "**3. Given a recurrence relation, solve it using the recursive tree approach:\n",
        "a. T(n) = 2T(n-1) +1\n",
        "b. T(n) = 2T(n/2) + n**"
      ],
      "metadata": {
        "id": "E1sCSGEYDKLq"
      }
    },
    {
      "cell_type": "markdown",
      "source": [
        "**a. T(n) = 2T(n-1) +1**"
      ],
      "metadata": {
        "id": "cV9vAQEWDWAo"
      }
    },
    {
      "cell_type": "code",
      "source": [
        "## Recurssion Tree Structure\n",
        "\n",
        "## 1. At level 0, we have T(n)\n",
        "## 2. At level 1, we have 2T(n-1)\n",
        "## 3. At level 2, each T(n-1) produces 2T(n-2) so we have 2*2T(n-2) = 4T(n-2)\n",
        "## 4. Similarly At level k, we have 2**kT(n-k)\n",
        "\n",
        "## Stopping Condition or Base Condition\n",
        "\n",
        "## when n-k = 1 ,  k = n-1\n",
        "## At this point T(1) is a constant C\n",
        "\n",
        "## Toal Contribution\n",
        "\n",
        "## At level k , the number of nodes is 2**k and each contributes 1\n",
        "##  T(n) = 2**0 * 1 + 2**1 * 1 + 2**2 * 1 + ...... + 2**(n-1) * 1 + T(1)\n",
        "## This is a geometric series whose sum is\n",
        "## T(n) = (2**n - 1) + C\n",
        "\n",
        "## Time Complexity = O(2**n)"
      ],
      "metadata": {
        "id": "eBAB4t29EfR_"
      },
      "execution_count": 12,
      "outputs": []
    },
    {
      "cell_type": "markdown",
      "source": [
        "**b. T(n) = 2T(n/2) + n**"
      ],
      "metadata": {
        "id": "iSiSKvFIJjNZ"
      }
    },
    {
      "cell_type": "code",
      "source": [
        "## Recurrsion Tree Structure\n",
        "\n",
        "## 1. At level 0, we have T(n)\n",
        "## 2. At level 1, we have 2T(n/2) contributing n\n",
        "## 3. At level 2, each T(n/2) produces 2T(n/4) contributing n/2 + n/2 = n\n",
        "## 4. Similarly At level k, we have 2**kT(n/2**k) and contribution is n\n",
        "\n",
        "## Stopping Condition or Base Condition\n",
        "\n",
        "## Recurrsion stops when\n",
        "## n/2**k = 1 ,  n = 2**k\n",
        "## k = logn (log with base 2)\n",
        "\n",
        "## Total Contribution\n",
        "## Each level contributes n and there are logn levels (log with base 2)\n",
        "## Therefore, T(n) = n + n + n + ..... + n\n",
        "## T(n) = n * logn (log with base 2)\n",
        "\n",
        "## Tme Complexity = O(nlogn) (log with base 2)"
      ],
      "metadata": {
        "id": "1yciDft-HH68"
      },
      "execution_count": 13,
      "outputs": []
    },
    {
      "cell_type": "code",
      "source": [],
      "metadata": {
        "id": "ZIQdcbTbMVjP"
      },
      "execution_count": null,
      "outputs": []
    }
  ]
}